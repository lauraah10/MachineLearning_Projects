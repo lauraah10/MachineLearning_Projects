{
 "cells": [
  {
   "cell_type": "markdown",
   "id": "3f59a227",
   "metadata": {},
   "source": [
    "# Lab Three: Clustering, Association Rules, Recommenders\n",
    "### Laura Ahumada, Kevin Boyd, Shikha Pandey, Duy Nguyen\n",
    "##### Southern Methodist University\n",
    "##### Fall, 2022"
   ]
  },
  {
   "cell_type": "markdown",
   "id": "c4b3408d",
   "metadata": {},
   "source": [
    "# Business Understanding\n",
    "* Describe the purpose of the data set you selected (i.e., why was this data collected in the first place?). How will you measure the effectiveness of a good algorithm? Why does your chosen validation method make sense for this specific dataset and the stakeholders needs?"
   ]
  },
  {
   "cell_type": "markdown",
   "id": "2b9ebcf3",
   "metadata": {},
   "source": [
    "#####"
   ]
  },
  {
   "cell_type": "markdown",
   "id": "e585f6fa",
   "metadata": {},
   "source": [
    "# Data Understanding Part 1\n",
    "* Describe the meaning and type of data (scale, values, etc.) for each attribute in the data file. Verify data quality: Are there missing values? Duplicate data? Outliers? Are those mistakes? How do you deal with these problems?"
   ]
  },
  {
   "cell_type": "markdown",
   "id": "6371cc6c",
   "metadata": {},
   "source": [
    "This dataset (ml-25m) describes 5-star rating activity from [MovieLens](http://movielens.org), a movie recommendation service. It contains 25,000,095 ratings across 62,423 movies; 59,047 of which are actually rated. These data were created by 162,541 users between January 09, 1995 and November 21, 2019. This dataset was generated on November 21, 2019.\n",
    "\n",
    "Users were selected at random for inclusion. All selected users had rated at least 20 movies. No demographic information is included. Each user is represented by an id, and no other information is provided.\n",
    "\n",
    "#####"
   ]
  },
  {
   "cell_type": "code",
   "execution_count": 1,
   "id": "f6e3ad30",
   "metadata": {},
   "outputs": [],
   "source": [
    "#Importing Libraries\n",
    "import pandas as pd\n",
    "import seaborn as sns\n",
    "import numpy as np\n",
    "import matplotlib.pyplot as plt\n",
    "import warnings\n",
    "warnings.filterwarnings('ignore')"
   ]
  },
  {
   "cell_type": "code",
   "execution_count": 2,
   "id": "22fc81c9",
   "metadata": {},
   "outputs": [],
   "source": [
    "#Reading the files\n",
    "df_movies = pd.read_csv('movies.csv')\n",
    "df_ratings = pd.read_csv('ratings.csv')\n",
    "\n",
    "#Merging the Dataset\n",
    "df_merge1=df_movies.merge(df_ratings,on=\"movieId\")"
   ]
  },
  {
   "cell_type": "code",
   "execution_count": 3,
   "id": "19cdfd7d",
   "metadata": {
    "scrolled": true
   },
   "outputs": [
    {
     "name": "stdout",
     "output_type": "stream",
     "text": [
      "Total number of ratings:  100836\n",
      "Total number of unique users = 610\n",
      "Total number of unique movies:  9742\n"
     ]
    }
   ],
   "source": [
    "print(\"Total number of ratings: \", df_merge1.shape[0])\n",
    "print(\"Total number of unique users =\", len(df_ratings.userId.unique()))\n",
    "print(\"Total number of unique movies: \", len(df_movies.movieId.unique()))\n",
    "#print(\"This last one is showing the unique movies in the df_rating file same info as the 3 sentence\")\n",
    "#-->print(\"Total number of unique rated movies =\", len(df_ratings.movieId.unique()))"
   ]
  },
  {
   "cell_type": "markdown",
   "id": "1916ade5",
   "metadata": {},
   "source": [
    "### Modifying the data to fit out business  case "
   ]
  },
  {
   "cell_type": "code",
   "execution_count": 4,
   "id": "e395d52c",
   "metadata": {},
   "outputs": [],
   "source": [
    "#Modify df to get info on rating saving it on its own column for our business case\n",
    "updated=df_merge1.groupby(\"movieId\").agg({\"rating\":(\"count\",np.mean, np.median, np.std), \"title\":['first'],\"genres\":['first']})\n",
    "updated=updated.reset_index()\n",
    "#Fix columns names\n",
    "updated.columns=[\"MovieId\",\"TotalRatings\",\"RatingMean\",\"RatingMedian\",\"RatingStd\",\"Title\",\"Genres\"]"
   ]
  },
  {
   "cell_type": "code",
   "execution_count": 5,
   "id": "b7cc499b",
   "metadata": {},
   "outputs": [],
   "source": [
    "#Removing Year from the title and creating a year column\n",
    "import re\n",
    "updated['Year']=updated['Title'].str.findall(r'([-+]?\\d*\\.\\d+|\\d+)').str[-1]\n",
    "updated['Title']=updated[\"Title\"].replace('[0-9,()]+','',regex=True)"
   ]
  },
  {
   "cell_type": "code",
   "execution_count": 6,
   "id": "d51d0813",
   "metadata": {},
   "outputs": [],
   "source": [
    "# Now let's update Genres by setting a column for each and removing the current Genres column\n",
    "\n",
    "#all genres\n",
    "genres_list=set([x  for y in updated['Genres'] for x in y.split(\"|\")])\n",
    "\n",
    "#Create Column for each of the Genres\n",
    "for i in genres_list:\n",
    "    updated[i]=[\"Yes\" if i in x.split(\"|\") else \"No\" for x in updated[\"Genres\"]]\n",
    "    \n",
    "#droping Genres column\n",
    "updated=updated.drop(\"Genres\",axis=1)\n"
   ]
  },
  {
   "cell_type": "code",
   "execution_count": 86,
   "id": "ec1aaa28",
   "metadata": {},
   "outputs": [
    {
     "data": {
      "text/plain": [
       "{'(no genres listed)',\n",
       " 'Action',\n",
       " 'Adventure',\n",
       " 'Animation',\n",
       " 'Children',\n",
       " 'Comedy',\n",
       " 'Crime',\n",
       " 'Documentary',\n",
       " 'Drama',\n",
       " 'Fantasy',\n",
       " 'Film-Noir',\n",
       " 'Horror',\n",
       " 'IMAX',\n",
       " 'Musical',\n",
       " 'Mystery',\n",
       " 'Romance',\n",
       " 'Sci-Fi',\n",
       " 'Thriller',\n",
       " 'War',\n",
       " 'Western'}"
      ]
     },
     "execution_count": 86,
     "metadata": {},
     "output_type": "execute_result"
    }
   ],
   "source": [
    "genres_list"
   ]
  },
  {
   "cell_type": "code",
   "execution_count": 7,
   "id": "eadbdd2d",
   "metadata": {},
   "outputs": [
    {
     "data": {
      "text/html": [
       "<div>\n",
       "<style scoped>\n",
       "    .dataframe tbody tr th:only-of-type {\n",
       "        vertical-align: middle;\n",
       "    }\n",
       "\n",
       "    .dataframe tbody tr th {\n",
       "        vertical-align: top;\n",
       "    }\n",
       "\n",
       "    .dataframe thead th {\n",
       "        text-align: right;\n",
       "    }\n",
       "</style>\n",
       "<table border=\"1\" class=\"dataframe\">\n",
       "  <thead>\n",
       "    <tr style=\"text-align: right;\">\n",
       "      <th></th>\n",
       "      <th>MovieId</th>\n",
       "      <th>TotalRatings</th>\n",
       "      <th>RatingMean</th>\n",
       "      <th>RatingMedian</th>\n",
       "      <th>RatingStd</th>\n",
       "      <th>Title</th>\n",
       "      <th>Year</th>\n",
       "      <th>Crime</th>\n",
       "      <th>Western</th>\n",
       "      <th>Action</th>\n",
       "      <th>...</th>\n",
       "      <th>Thriller</th>\n",
       "      <th>Adventure</th>\n",
       "      <th>IMAX</th>\n",
       "      <th>Film-Noir</th>\n",
       "      <th>Documentary</th>\n",
       "      <th>Horror</th>\n",
       "      <th>War</th>\n",
       "      <th>Drama</th>\n",
       "      <th>Romance</th>\n",
       "      <th>Sci-Fi</th>\n",
       "    </tr>\n",
       "  </thead>\n",
       "  <tbody>\n",
       "    <tr>\n",
       "      <th>0</th>\n",
       "      <td>1</td>\n",
       "      <td>215</td>\n",
       "      <td>3.920930</td>\n",
       "      <td>4.0</td>\n",
       "      <td>0.834859</td>\n",
       "      <td>Toy Story</td>\n",
       "      <td>1995</td>\n",
       "      <td>No</td>\n",
       "      <td>No</td>\n",
       "      <td>No</td>\n",
       "      <td>...</td>\n",
       "      <td>No</td>\n",
       "      <td>Yes</td>\n",
       "      <td>No</td>\n",
       "      <td>No</td>\n",
       "      <td>No</td>\n",
       "      <td>No</td>\n",
       "      <td>No</td>\n",
       "      <td>No</td>\n",
       "      <td>No</td>\n",
       "      <td>No</td>\n",
       "    </tr>\n",
       "    <tr>\n",
       "      <th>1</th>\n",
       "      <td>2</td>\n",
       "      <td>110</td>\n",
       "      <td>3.431818</td>\n",
       "      <td>3.5</td>\n",
       "      <td>0.881713</td>\n",
       "      <td>Jumanji</td>\n",
       "      <td>1995</td>\n",
       "      <td>No</td>\n",
       "      <td>No</td>\n",
       "      <td>No</td>\n",
       "      <td>...</td>\n",
       "      <td>No</td>\n",
       "      <td>Yes</td>\n",
       "      <td>No</td>\n",
       "      <td>No</td>\n",
       "      <td>No</td>\n",
       "      <td>No</td>\n",
       "      <td>No</td>\n",
       "      <td>No</td>\n",
       "      <td>No</td>\n",
       "      <td>No</td>\n",
       "    </tr>\n",
       "    <tr>\n",
       "      <th>2</th>\n",
       "      <td>3</td>\n",
       "      <td>52</td>\n",
       "      <td>3.259615</td>\n",
       "      <td>3.0</td>\n",
       "      <td>1.054823</td>\n",
       "      <td>Grumpier Old Men</td>\n",
       "      <td>1995</td>\n",
       "      <td>No</td>\n",
       "      <td>No</td>\n",
       "      <td>No</td>\n",
       "      <td>...</td>\n",
       "      <td>No</td>\n",
       "      <td>No</td>\n",
       "      <td>No</td>\n",
       "      <td>No</td>\n",
       "      <td>No</td>\n",
       "      <td>No</td>\n",
       "      <td>No</td>\n",
       "      <td>No</td>\n",
       "      <td>Yes</td>\n",
       "      <td>No</td>\n",
       "    </tr>\n",
       "    <tr>\n",
       "      <th>3</th>\n",
       "      <td>4</td>\n",
       "      <td>7</td>\n",
       "      <td>2.357143</td>\n",
       "      <td>3.0</td>\n",
       "      <td>0.852168</td>\n",
       "      <td>Waiting to Exhale</td>\n",
       "      <td>1995</td>\n",
       "      <td>No</td>\n",
       "      <td>No</td>\n",
       "      <td>No</td>\n",
       "      <td>...</td>\n",
       "      <td>No</td>\n",
       "      <td>No</td>\n",
       "      <td>No</td>\n",
       "      <td>No</td>\n",
       "      <td>No</td>\n",
       "      <td>No</td>\n",
       "      <td>No</td>\n",
       "      <td>Yes</td>\n",
       "      <td>Yes</td>\n",
       "      <td>No</td>\n",
       "    </tr>\n",
       "    <tr>\n",
       "      <th>4</th>\n",
       "      <td>5</td>\n",
       "      <td>49</td>\n",
       "      <td>3.071429</td>\n",
       "      <td>3.0</td>\n",
       "      <td>0.907148</td>\n",
       "      <td>Father of the Bride Part II</td>\n",
       "      <td>1995</td>\n",
       "      <td>No</td>\n",
       "      <td>No</td>\n",
       "      <td>No</td>\n",
       "      <td>...</td>\n",
       "      <td>No</td>\n",
       "      <td>No</td>\n",
       "      <td>No</td>\n",
       "      <td>No</td>\n",
       "      <td>No</td>\n",
       "      <td>No</td>\n",
       "      <td>No</td>\n",
       "      <td>No</td>\n",
       "      <td>No</td>\n",
       "      <td>No</td>\n",
       "    </tr>\n",
       "  </tbody>\n",
       "</table>\n",
       "<p>5 rows × 27 columns</p>\n",
       "</div>"
      ],
      "text/plain": [
       "   MovieId  TotalRatings  RatingMean  RatingMedian  RatingStd  \\\n",
       "0        1           215    3.920930           4.0   0.834859   \n",
       "1        2           110    3.431818           3.5   0.881713   \n",
       "2        3            52    3.259615           3.0   1.054823   \n",
       "3        4             7    2.357143           3.0   0.852168   \n",
       "4        5            49    3.071429           3.0   0.907148   \n",
       "\n",
       "                          Title  Year Crime Western Action  ... Thriller  \\\n",
       "0                    Toy Story   1995    No      No     No  ...       No   \n",
       "1                      Jumanji   1995    No      No     No  ...       No   \n",
       "2             Grumpier Old Men   1995    No      No     No  ...       No   \n",
       "3            Waiting to Exhale   1995    No      No     No  ...       No   \n",
       "4  Father of the Bride Part II   1995    No      No     No  ...       No   \n",
       "\n",
       "  Adventure IMAX Film-Noir Documentary Horror War Drama Romance Sci-Fi  \n",
       "0       Yes   No        No          No     No  No    No      No     No  \n",
       "1       Yes   No        No          No     No  No    No      No     No  \n",
       "2        No   No        No          No     No  No    No     Yes     No  \n",
       "3        No   No        No          No     No  No   Yes     Yes     No  \n",
       "4        No   No        No          No     No  No    No      No     No  \n",
       "\n",
       "[5 rows x 27 columns]"
      ]
     },
     "execution_count": 7,
     "metadata": {},
     "output_type": "execute_result"
    }
   ],
   "source": [
    "#We now have the final dataset that we can now do the EDA on\n",
    "updated.head()"
   ]
  },
  {
   "cell_type": "markdown",
   "id": "287c5d9d",
   "metadata": {},
   "source": [
    "## EDA"
   ]
  },
  {
   "cell_type": "code",
   "execution_count": 8,
   "id": "7cd31380",
   "metadata": {},
   "outputs": [],
   "source": [
    "#323 movies don't have year\n",
    "#(set(updated[updated[\"Year\"].apply(lambda x: len(str(x)) < 4)][\"Title\"]))"
   ]
  },
  {
   "cell_type": "markdown",
   "id": "405dbf3b",
   "metadata": {},
   "source": [
    "### Missing Values\n",
    "+ There are no missing values"
   ]
  },
  {
   "cell_type": "code",
   "execution_count": 9,
   "id": "d39bd6ed",
   "metadata": {},
   "outputs": [
    {
     "data": {
      "text/plain": [
       "MovieId                  0\n",
       "TotalRatings             0\n",
       "RatingMean               0\n",
       "RatingMedian             0\n",
       "RatingStd             3446\n",
       "Title                    0\n",
       "Year                    10\n",
       "Crime                    0\n",
       "Western                  0\n",
       "Action                   0\n",
       "Children                 0\n",
       "Comedy                   0\n",
       "Mystery                  0\n",
       "Musical                  0\n",
       "Fantasy                  0\n",
       "Animation                0\n",
       "(no genres listed)       0\n",
       "Thriller                 0\n",
       "Adventure                0\n",
       "IMAX                     0\n",
       "Film-Noir                0\n",
       "Documentary              0\n",
       "Horror                   0\n",
       "War                      0\n",
       "Drama                    0\n",
       "Romance                  0\n",
       "Sci-Fi                   0\n",
       "dtype: int64"
      ]
     },
     "execution_count": 9,
     "metadata": {},
     "output_type": "execute_result"
    }
   ],
   "source": [
    "updated.isnull().sum()"
   ]
  },
  {
   "cell_type": "markdown",
   "id": "944ccddb",
   "metadata": {},
   "source": [
    "***!! ARE YOU ALL OK TO REPLACE THESE NA OF STD WITH 0 SINCE THAT IS DUE TO THEM ONLY HAVING 1 RATING?***"
   ]
  },
  {
   "cell_type": "code",
   "execution_count": 10,
   "id": "ae6bf774",
   "metadata": {},
   "outputs": [],
   "source": [
    "#We can see that the Ratings with NA's are due to the movie only have 1 rating\n",
    "#therefor these will be replaced with 0\n",
    "updated[updated[\"RatingStd\"].isnull()][\"TotalRatings\"].unique()\n",
    "\n",
    "#updating value\n",
    "updated['RatingStd'].fillna(0,inplace=True)"
   ]
  },
  {
   "cell_type": "code",
   "execution_count": 11,
   "id": "a2402e73",
   "metadata": {},
   "outputs": [],
   "source": [
    "#Saving the title of movies without year\n",
    "MoviesNoYear=updated[updated[\"Year\"].isnull()][\"MovieId\"].tolist()"
   ]
  },
  {
   "cell_type": "code",
   "execution_count": 12,
   "id": "4e2f670c",
   "metadata": {},
   "outputs": [
    {
     "data": {
      "text/plain": [
       "9031    Ready Player One\n",
       "Name: title, dtype: object"
      ]
     },
     "execution_count": 12,
     "metadata": {},
     "output_type": "execute_result"
    }
   ],
   "source": [
    "df_movies[df_movies[\"movieId\"]==140956][\"title\"]"
   ]
  },
  {
   "cell_type": "code",
   "execution_count": 13,
   "id": "550ff4da",
   "metadata": {},
   "outputs": [
    {
     "name": "stdout",
     "output_type": "stream",
     "text": [
      "Ready Player One\n",
      "Hyena Road\n",
      "The Adventures of Sherlock Holmes and Doctor Wa...\n",
      "Nocturnal Animals\n",
      "Paterson\n",
      "Moonlight\n",
      "The OA\n",
      "Cosmos\n",
      "Maria Bamford: Old Baby\n",
      "Black Mirror\n"
     ]
    }
   ],
   "source": [
    "#Using list of movies ID to retrieve original name from the original movie.df\n",
    "# to verify that year is actually missing\n",
    "for i in ((updated[updated[\"Year\"].isnull()][\"MovieId\"])):\n",
    "    print(df_movies[df_movies[\"movieId\"]==i][\"title\"].to_string(index=False))"
   ]
  },
  {
   "cell_type": "markdown",
   "id": "b6dc116d",
   "metadata": {},
   "source": [
    "Those series and movies don't have a year so we will:\n",
    "+ Update year of movies that were found online \n",
    "+ Drop The Adventures of Sherlock Holmes and Doctor Watson which was had multiple movies and shows with different years"
   ]
  },
  {
   "cell_type": "code",
   "execution_count": 14,
   "id": "79e34b61",
   "metadata": {},
   "outputs": [],
   "source": [
    "#Updating year for Moonlinght per online research\n",
    "ind=updated.loc[(updated['Year'].isnull()) & (updated[\"Title\"]==\"Moonlight\")].index[0]\n",
    "updated.at[ind,'Year']=2016\n",
    "\n",
    "#Updating year of Black Mirror per online research\n",
    "ind=updated.loc[(updated['Year'].isnull()) & (updated[\"Title\"]==\"Black Mirror\")].index[0]\n",
    "updated.at[ind,'Year']=2011\n",
    "\n",
    "#Updating year of Maria Bamford: Old Baby per online research\n",
    "ind=updated.loc[(updated['Year'].isnull()) & (updated[\"Title\"]==\"Maria Bamford: Old Baby\")].index[0]\n",
    "updated.at[ind,'Year']=2017\n",
    "\n",
    "#Updating year of Hyena Road per online research\n",
    "ind=updated.loc[(updated['Year'].isnull()) & (updated[\"Title\"]==\"Hyena Road\")].index[0]\n",
    "updated.at[ind,'Year']=2015\n",
    "\n",
    "#Updating year of Ready Player One per online research\n",
    "ind=updated.loc[(updated['Year'].isnull()) & (updated[\"Title\"]==\"Ready Player One\")].index[0]\n",
    "updated.at[ind,'Year']=2018\n",
    "\n",
    "#Updating year of Paterson per online research\n",
    "ind=updated.loc[(updated['Year'].isnull()) & (updated[\"Title\"]==\"Paterson\")].index[0]\n",
    "updated.at[ind,'Year']=2016\n",
    "\n",
    "#Updating year of The OA per online research\n",
    "ind=updated.loc[(updated['Year'].isnull()) & (updated[\"Title\"]==\"The OA\")].index[0]\n",
    "updated.at[ind,'Year']=2016\n",
    "\n",
    "#Updating year of Cosmos per online research\n",
    "ind=updated.loc[(updated['Year'].isnull()) & (updated[\"Title\"]==\"Cosmos\")].index[0]\n",
    "updated.at[ind,'Year']=2019\n",
    "\n",
    "#Updating year of Nocturnal Animals per online research\n",
    "ind=updated.loc[(updated['Year'].isnull()) & (updated[\"Title\"]==\"Nocturnal Animals\")].index[0]\n",
    "updated.at[ind,'Year']=2016\n",
    "\n",
    "#Dropping NA\n",
    "updated.dropna(inplace=True)\n"
   ]
  },
  {
   "cell_type": "code",
   "execution_count": 15,
   "id": "269c4802",
   "metadata": {},
   "outputs": [
    {
     "data": {
      "text/plain": [
       "MovieId               0\n",
       "TotalRatings          0\n",
       "RatingMean            0\n",
       "RatingMedian          0\n",
       "RatingStd             0\n",
       "Title                 0\n",
       "Year                  0\n",
       "Crime                 0\n",
       "Western               0\n",
       "Action                0\n",
       "Children              0\n",
       "Comedy                0\n",
       "Mystery               0\n",
       "Musical               0\n",
       "Fantasy               0\n",
       "Animation             0\n",
       "(no genres listed)    0\n",
       "Thriller              0\n",
       "Adventure             0\n",
       "IMAX                  0\n",
       "Film-Noir             0\n",
       "Documentary           0\n",
       "Horror                0\n",
       "War                   0\n",
       "Drama                 0\n",
       "Romance               0\n",
       "Sci-Fi                0\n",
       "dtype: int64"
      ]
     },
     "execution_count": 15,
     "metadata": {},
     "output_type": "execute_result"
    }
   ],
   "source": [
    "#Checking that there are no missing values \n",
    "updated.isnull().sum()"
   ]
  },
  {
   "cell_type": "markdown",
   "id": "04eebbd2",
   "metadata": {},
   "source": [
    "### Duplicated Values\n",
    "+ No duplicated values"
   ]
  },
  {
   "cell_type": "markdown",
   "id": "16a0c2bc",
   "metadata": {},
   "source": [
    "### What shall we do with these movies? We have enough data, I think we should remove\n",
    "--> ***WINCE WE ARE NOW USING THE SMALL DATA AND JOINED WITH INNER THERE ARE NO MOVIES WITH DUPLICATE NAMES :D*** "
   ]
  },
  {
   "cell_type": "code",
   "execution_count": 16,
   "id": "de79308a",
   "metadata": {},
   "outputs": [
    {
     "data": {
      "text/plain": [
       "MovieId               0.0\n",
       "TotalRatings          0.0\n",
       "RatingMean            0.0\n",
       "RatingMedian          0.0\n",
       "RatingStd             0.0\n",
       "Title                 0.0\n",
       "Year                  0.0\n",
       "Crime                 0.0\n",
       "Western               0.0\n",
       "Action                0.0\n",
       "Children              0.0\n",
       "Comedy                0.0\n",
       "Mystery               0.0\n",
       "Musical               0.0\n",
       "Fantasy               0.0\n",
       "Animation             0.0\n",
       "(no genres listed)    0.0\n",
       "Thriller              0.0\n",
       "Adventure             0.0\n",
       "IMAX                  0.0\n",
       "Film-Noir             0.0\n",
       "Documentary           0.0\n",
       "Horror                0.0\n",
       "War                   0.0\n",
       "Drama                 0.0\n",
       "Romance               0.0\n",
       "Sci-Fi                0.0\n",
       "dtype: float64"
      ]
     },
     "execution_count": 16,
     "metadata": {},
     "output_type": "execute_result"
    }
   ],
   "source": [
    "updated[updated.duplicated(keep='first')].sum()"
   ]
  },
  {
   "cell_type": "markdown",
   "id": "bc7479d5",
   "metadata": {},
   "source": [
    "### There are some movies with the same name but we can see each has the rating and Category therefore we will keep them in the data since we are looking Genres"
   ]
  },
  {
   "cell_type": "code",
   "execution_count": 17,
   "id": "069e2bd6",
   "metadata": {},
   "outputs": [
    {
     "data": {
      "text/plain": [
       "                                 13\n",
       "Hamlet                            5\n",
       " Up                               5\n",
       "Christmas Carol A                 4\n",
       "Three Musketeers The              4\n",
       "                                 ..\n",
       "All That Heaven Allows            1\n",
       "Thing with Two Heads The          1\n",
       "Something Wild                    1\n",
       "Shadows and Fog                   1\n",
       "Andrew Dice Clay: Dice Rules      1\n",
       "Name: Title, Length: 9384, dtype: int64"
      ]
     },
     "execution_count": 17,
     "metadata": {},
     "output_type": "execute_result"
    }
   ],
   "source": [
    "#There are some movies with same name\n",
    "updated[\"Title\"].value_counts()"
   ]
  },
  {
   "cell_type": "code",
   "execution_count": 18,
   "id": "2e9d7446",
   "metadata": {},
   "outputs": [
    {
     "data": {
      "text/plain": [
       "\"                                                13\\nHamlet                                           5\\n Up                                              5\\nChristmas Carol A                                4\\nThree Musketeers The                             4\\nJane Eyre                                        4\\nMisérables Les                                   4\\nKing Kong                                        3\\nTaxi                                             3\\nAlice in Wonderland                              3\\nLittle Women                                     3\\nEmma                                             3\\nPeter Pan                                        3\\nCinderella                                       3\\nCarrie                                           3\\nProject X                                        3\\nScary Movie                                      3\\nGulliver's Travels                               3\\nHunchback of Notre Dame The                      3\\nScream                                           3\\nFinal Destination                                3\\nAnna Karenina                                    3\\nLethal Weapon                                    3\\nKing Solomon's Mines                             3\\nRunning Scared                                   3\\nSpellbound                                       3\\nMummy The                                        3\\nParanormal Activity                              3\\nRoboCop                                          2\\nFootloose                                        2\\nUnknown                                          2\\nHairspray                                        2\\nCape Fear                                        2\\nOmen The                                         2\\nSpider-Man                                       2\\nTexas Chainsaw Massacre The                      2\\nTotal Recall                                     2\\nCharlotte's Web                                  2\\nTaxi                                             2\\nNightmare on Elm Street A                        2\\nMurder on the Orient Express                     2\\nKung Fu Panda                                    2\\nBlob The                                         2\\nPink Panther The                                 2\\nUnforgiven                                       2\\nJulia                                            2\\nMan Who Knew Too Much The                        2\\nMuch Ado About Nothing                           2\\nClash of the Titans                              2\\nPride                                            2\\nCars                                             2\\nSaturn                                           2\\nEros                                             2\\nHouse Party                                      2\\nAvengers The                                     2\\nBernie                                           2\\nWonderland                                       2\\nHouse of Wax                                     2\\nFright Night                                     2\\nGetaway The                                      2\\nInto the Woods                                   2\\nFirm The                                         2\\nManchurian Candidate The                         2\\nAmityville Horror The                            2\\nLegend                                           2\\nFugitive The                                     2\\nTwilight                                         2\\n Dalmatians                                      2\\nPatriot The                                      2\\nInsidious: Chapter                               2\\nPriest                                           2\\nRobin Hood                                       2\\nDeliver Us from Evil                             2\\nLolita                                           2\\nMasterminds                                      2\\nFeast                                            2\\nCrash                                            2\\nTransporter                                      2\\nDune                                             2\\nHome                                             2\\nMiracle on th Street                             2\\nBabes in Toyland                                 2\\nMan of the House                                 2\\nFreaky Friday                                    2\\nLove Affair                                      2\\n: to Yuma                                        2\\nArt of the Steal The                             2\\nRush                                             2\\nHarry Potter and the Deathly Hallows: Part       2\\nMetropolis                                       2\\nRush Hour                                        2\\nOliver Twist                                     2\\nKill Bill: Vol.                                  2\\nFever Pitch                                      2\\nDespicable Me                                    2\\nBad Company                                      2\\nElsa & Fred                                      2\\nHitcher The                                      2\\nShaft                                            2\\nMr. & Mrs. Smith                                 2\\nPunisher The                                     2\\nJungle Book The                                  2\\nAssault on Precinct                              2\\nSunshine                                         2\\nUnderworld                                       2\\nGone in  Seconds                                 2\\nBourne Identity The                              2\\nWar of the Worlds                                2\\nFantastic Four                                   2\\nGuardian The                                     2\\nRoboCop                                          2\\nVillage of the Damned                            2\\nHope Springs                                     2\\nSky High                                         2\\nD.O.A.                                           2\\nSaw                                              2\\nHills Have Eyes The                              2\\nCaptain America                                  2\\n Leagues Under the Sea                           2\\nKarate Kid The                                   2\\nBlood: The Last Vampire                          2\\nVisit The                                        2\\nPete's Dragon                                    2\\nScarface                                         2\\nNo Man's Land                                    2\\nThe Night Before                                 2\\nPlanet of the Apes                               2\\nIt                                               2\\nNothing to Lose                                  2\\nFrankie and Johnny                               2\\nZulu                                             2\\nHaunting The                                     2\\nKing and I The                                   2\\n Jump Street                                     2\\nTaken                                            2\\nBoy Meets Girl                                   2\\nJourney to the Center of the Earth               2\\nIron Man                                         2\\nNutty Professor The                              2\\nPrime Suspect                                    2\\n Chairs                                          2\\nMildred Pierce                                   2\\nShaggy Dog The                                   2\\nLongest Yard The                                 2\\nConfessions of a Dangerous Mind                  2\\nBeowulf                                          2\\nAround the World in  Days                        2\\nFly The                                          2\\nMy Man Godfrey                                   2\\nBliss                                            2\\nBlack Christmas                                  2\\nGigi                                             2\\nWar and Peace                                    2\\nThief of Bagdad The                              2\\nFather of the Bride                              2\\nAlfie                                            2\\nNotorious                                        2\\nSignal The                                       2\\nD: The Mighty Ducks                              2\\nAvalon                                           2\\nMighty Joe Young                                 2\\nBeautiful Creatures                              2\\nGeneral The                                      2\\nParent Trap The                                  2\\nLoser                                            2\\nStalingrad                                       2\\nRing The                                         2\\nThing The                                        2\\nTreasure Island                                  2\\nObsession                                        2\\nDad's Army                                       2\\nDouble The                                       2\\nTime Machine The                                 2\\nPinocchio                                        2\\nBeauty and the Beast                             2\\nOscar                                            2\\nBatman                                           2\\nPsycho                                           2\\nLegend of Sleepy Hollow The                      2\\nGet Carter                                       2\\nWe're No Angels                                  2\\nBully                                            2\\nEmployee of the Month                            2\\nCashback                                         2\\nHunted The                                       2\\nInvincible                                       2\\nThomas Crown Affair The                          2\\nLadykillers The                                  2\\nDay the Earth Stood Still The                    2\\nBedazzled                                        2\\n Angry Men                                       2\\nSisters                                          2\\nDeath at a Funeral                               2\\nSpiral                                           2\\nTwister                                          2\\nCasino Royale                                    2\\nStepford Wives The                               2\\nYours Mine and Ours                              2\\nFog The                                          2\\nDracula                                          2\\nFrankenstein                                     2\\nBatman: The Dark Knight Returns Part             2\\nNeighbors                                        2\\nChocolat                                         2\\nTrue Crime                                       2\\nInvasion of the Body Snatchers                   2\\nParasyte: Part                                   2\\nAlice                                            2\\nTrip The                                         2\\nProducers The                                    2\\nItalian Job The                                  2\\nFury                                             2\\nTwilight Saga: Breaking Dawn - Part  The         2\\nGold Diggers of                                  2\\nFreshman The                                     2\\nCat People                                       2\\nNight of the Living Dead                         2\\nPersuasion                                       2\\nDr. Jekyll and Mr. Hyde                          2\\nCreep                                            2\\nDerailed                                         2\\nFire and Ice                                     2\\nTeenage Mutant Ninja Turtles                     2\\nAnastasia                                        2\\nPostman Always Rings Twice The                   2\\nWhen a Stranger Calls                            2\\nOf Mice and Men                                  2\\nZoom                                             2\\nDeath Wish                                       2\\nOut Cold                                         2\\nJackass .                                        2\\nSafe                                             2\\nConan the Barbarian                              2\\nThe Hunger Games: Mockingjay - Part              2\\nWhiplash                                         2\\nToy Story                                        2\\nFriday the th                                    2\\nTitanic                                          2\\nKid The                                          2\\n/                                                2\\nHercules                                         2\\nDolls                                            2\\nFrozen                                           2\\nArthur                                           2\\nRed Dawn                                         2\\nIron Man                                         2\\nCollector The                                    2\\nStar Is Born A                                   2\\nTrue Grit                                        2\\nFocus                                            2\\nCrossroads                                       2\\nMan of the Year                                  2\\nCheaper by the Dozen                             2\\nLord of the Flies                                2\\nTinker Tailor Soldier Spy                        2\\nInsomnia                                         2\\nBroken Arrow                                     2\\nWonder Woman                                     2\\nApollo                                           2\\nIp Man                                           2\\nBlack Sheep                                      2\\nSleuth                                           2\\nBrainstorm                                       2\\nFront Page The                                   2\\nGreat Gatsby The                                 2\\nWuthering Heights                                2\\nGodzilla                                         2\\nSecret Life of Walter Mitty The                  2\\nPride and Prejudice                              2\\nLast Holiday                                     2\\nAll the King's Men                               2\\nGreat Expectations                               2\\nDeath Wish                                       2\\nRollerball                                       2\\nInferno                                          2\\nSabrina                                          2\\nGirl Next Door The                               2\\nHush                                             2\\nChild's Play                                     2\\n Hours                                           2\\nThe Diary of Anne Frank                          2\\nThe Great Train Robbery                          2\\nEverest                                          2\\nRookie The                                       2\\nWicker Man The                                   2\\nGladiator                                        2\\nHalloween                                        2\\nLeprechaun                                       2\\nHalloween II                                     2\\nDeath Race                                       2\\nProm Night                                       2\\nBlind Date                                       2\\nDawn of the Dead                                 2\""
      ]
     },
     "execution_count": 18,
     "metadata": {},
     "output_type": "execute_result"
    }
   ],
   "source": [
    "#Let's see which movies\n",
    "updated['Title'].value_counts()[updated['Title'].value_counts()> 1].to_string()"
   ]
  },
  {
   "cell_type": "code",
   "execution_count": 19,
   "id": "743e3764",
   "metadata": {},
   "outputs": [
    {
     "data": {
      "text/html": [
       "<div>\n",
       "<style scoped>\n",
       "    .dataframe tbody tr th:only-of-type {\n",
       "        vertical-align: middle;\n",
       "    }\n",
       "\n",
       "    .dataframe tbody tr th {\n",
       "        vertical-align: top;\n",
       "    }\n",
       "\n",
       "    .dataframe thead th {\n",
       "        text-align: right;\n",
       "    }\n",
       "</style>\n",
       "<table border=\"1\" class=\"dataframe\">\n",
       "  <thead>\n",
       "    <tr style=\"text-align: right;\">\n",
       "      <th></th>\n",
       "      <th>MovieId</th>\n",
       "      <th>TotalRatings</th>\n",
       "      <th>RatingMean</th>\n",
       "      <th>RatingMedian</th>\n",
       "      <th>RatingStd</th>\n",
       "      <th>Title</th>\n",
       "      <th>Year</th>\n",
       "      <th>Crime</th>\n",
       "      <th>Western</th>\n",
       "      <th>Action</th>\n",
       "      <th>...</th>\n",
       "      <th>Thriller</th>\n",
       "      <th>Adventure</th>\n",
       "      <th>IMAX</th>\n",
       "      <th>Film-Noir</th>\n",
       "      <th>Documentary</th>\n",
       "      <th>Horror</th>\n",
       "      <th>War</th>\n",
       "      <th>Drama</th>\n",
       "      <th>Romance</th>\n",
       "      <th>Sci-Fi</th>\n",
       "    </tr>\n",
       "  </thead>\n",
       "  <tbody>\n",
       "    <tr>\n",
       "      <th>4899</th>\n",
       "      <td>7360</td>\n",
       "      <td>16</td>\n",
       "      <td>3.90625</td>\n",
       "      <td>4.0</td>\n",
       "      <td>1.020110</td>\n",
       "      <td>Dawn of the Dead</td>\n",
       "      <td>2004</td>\n",
       "      <td>No</td>\n",
       "      <td>No</td>\n",
       "      <td>Yes</td>\n",
       "      <td>...</td>\n",
       "      <td>Yes</td>\n",
       "      <td>No</td>\n",
       "      <td>No</td>\n",
       "      <td>No</td>\n",
       "      <td>No</td>\n",
       "      <td>Yes</td>\n",
       "      <td>No</td>\n",
       "      <td>Yes</td>\n",
       "      <td>No</td>\n",
       "      <td>No</td>\n",
       "    </tr>\n",
       "    <tr>\n",
       "      <th>4918</th>\n",
       "      <td>7387</td>\n",
       "      <td>20</td>\n",
       "      <td>3.97500</td>\n",
       "      <td>4.0</td>\n",
       "      <td>1.006231</td>\n",
       "      <td>Dawn of the Dead</td>\n",
       "      <td>1978</td>\n",
       "      <td>No</td>\n",
       "      <td>No</td>\n",
       "      <td>Yes</td>\n",
       "      <td>...</td>\n",
       "      <td>No</td>\n",
       "      <td>No</td>\n",
       "      <td>No</td>\n",
       "      <td>No</td>\n",
       "      <td>No</td>\n",
       "      <td>Yes</td>\n",
       "      <td>No</td>\n",
       "      <td>Yes</td>\n",
       "      <td>No</td>\n",
       "      <td>No</td>\n",
       "    </tr>\n",
       "  </tbody>\n",
       "</table>\n",
       "<p>2 rows × 27 columns</p>\n",
       "</div>"
      ],
      "text/plain": [
       "      MovieId  TotalRatings  RatingMean  RatingMedian  RatingStd  \\\n",
       "4899     7360            16     3.90625           4.0   1.020110   \n",
       "4918     7387            20     3.97500           4.0   1.006231   \n",
       "\n",
       "                  Title  Year Crime Western Action  ... Thriller Adventure  \\\n",
       "4899  Dawn of the Dead   2004    No      No    Yes  ...      Yes        No   \n",
       "4918  Dawn of the Dead   1978    No      No    Yes  ...       No        No   \n",
       "\n",
       "     IMAX Film-Noir Documentary Horror War Drama Romance Sci-Fi  \n",
       "4899   No        No          No    Yes  No   Yes      No     No  \n",
       "4918   No        No          No    Yes  No   Yes      No     No  \n",
       "\n",
       "[2 rows x 27 columns]"
      ]
     },
     "execution_count": 19,
     "metadata": {},
     "output_type": "execute_result"
    }
   ],
   "source": [
    "#Check an example\n",
    "updated[updated[\"Title\"]==\"Dawn of the Dead \"]"
   ]
  },
  {
   "cell_type": "code",
   "execution_count": 20,
   "id": "f0df4af5",
   "metadata": {},
   "outputs": [],
   "source": [
    "#Other way to print it\n",
    "# updated[\"Title\"].value_counts()\n",
    "\n",
    "# a=(updated[updated['Title'].isin(updated['Title'].value_counts()[updated['Title'].value_counts()>1].index)].Title\n",
    "# )\n",
    "\n",
    "# for i in a:\n",
    "#     print(i)\n",
    "\n"
   ]
  },
  {
   "cell_type": "markdown",
   "id": "dffbd58b",
   "metadata": {},
   "source": [
    "### Outliers\n",
    "!!!! Surprisingly there are only 2 outliers, one rating recorded as 1 and one rating as 0.5, out of the 2.5M ratings. These two shouldn't be counted as mistakes...?"
   ]
  },
  {
   "cell_type": "code",
   "execution_count": 50,
   "id": "8d0ab030",
   "metadata": {},
   "outputs": [
    {
     "data": {
      "text/plain": [
       "{'whiskers': [<matplotlib.lines.Line2D at 0x7f0a43b6b880>,\n",
       "  <matplotlib.lines.Line2D at 0x7f0a43b6bb50>],\n",
       " 'caps': [<matplotlib.lines.Line2D at 0x7f0a43b6be20>,\n",
       "  <matplotlib.lines.Line2D at 0x7f0a43b84130>],\n",
       " 'boxes': [<matplotlib.lines.Line2D at 0x7f0a43b6b6d0>],\n",
       " 'medians': [<matplotlib.lines.Line2D at 0x7f0a43b84400>],\n",
       " 'fliers': [<matplotlib.lines.Line2D at 0x7f0a43b846d0>],\n",
       " 'means': []}"
      ]
     },
     "execution_count": 50,
     "metadata": {},
     "output_type": "execute_result"
    },
    {
     "data": {
      "image/png": "[encoded data removed]",
      "text/plain": [
       "<Figure size 640x480 with 1 Axes>"
      ]
     },
     "metadata": {},
     "output_type": "display_data"
    }
   ],
   "source": [
    "#Commented and updated by shikha\n",
    "#plt.boxplot(df_merge1['rating'])\n",
    "plt.boxplot(updated['RatingMean'])"
   ]
  },
  {
   "cell_type": "code",
   "execution_count": 22,
   "id": "0b705267",
   "metadata": {
    "collapsed": true
   },
   "outputs": [
    {
     "data": {
      "text/html": [
       "<div>\n",
       "<style scoped>\n",
       "    .dataframe tbody tr th:only-of-type {\n",
       "        vertical-align: middle;\n",
       "    }\n",
       "\n",
       "    .dataframe tbody tr th {\n",
       "        vertical-align: top;\n",
       "    }\n",
       "\n",
       "    .dataframe thead th {\n",
       "        text-align: right;\n",
       "    }\n",
       "</style>\n",
       "<table border=\"1\" class=\"dataframe\">\n",
       "  <thead>\n",
       "    <tr style=\"text-align: right;\">\n",
       "      <th></th>\n",
       "      <th>MovieId</th>\n",
       "      <th>TotalRatings</th>\n",
       "      <th>RatingMean</th>\n",
       "      <th>RatingMedian</th>\n",
       "      <th>RatingStd</th>\n",
       "      <th>Title</th>\n",
       "      <th>Year</th>\n",
       "      <th>Crime</th>\n",
       "      <th>Western</th>\n",
       "      <th>Action</th>\n",
       "      <th>...</th>\n",
       "      <th>Thriller</th>\n",
       "      <th>Adventure</th>\n",
       "      <th>IMAX</th>\n",
       "      <th>Film-Noir</th>\n",
       "      <th>Documentary</th>\n",
       "      <th>Horror</th>\n",
       "      <th>War</th>\n",
       "      <th>Drama</th>\n",
       "      <th>Romance</th>\n",
       "      <th>Sci-Fi</th>\n",
       "    </tr>\n",
       "  </thead>\n",
       "  <tbody>\n",
       "    <tr>\n",
       "      <th>0</th>\n",
       "      <td>1</td>\n",
       "      <td>215</td>\n",
       "      <td>3.920930</td>\n",
       "      <td>4.0</td>\n",
       "      <td>0.834859</td>\n",
       "      <td>Toy Story</td>\n",
       "      <td>1995</td>\n",
       "      <td>No</td>\n",
       "      <td>No</td>\n",
       "      <td>No</td>\n",
       "      <td>...</td>\n",
       "      <td>No</td>\n",
       "      <td>Yes</td>\n",
       "      <td>No</td>\n",
       "      <td>No</td>\n",
       "      <td>No</td>\n",
       "      <td>No</td>\n",
       "      <td>No</td>\n",
       "      <td>No</td>\n",
       "      <td>No</td>\n",
       "      <td>No</td>\n",
       "    </tr>\n",
       "    <tr>\n",
       "      <th>1</th>\n",
       "      <td>2</td>\n",
       "      <td>110</td>\n",
       "      <td>3.431818</td>\n",
       "      <td>3.5</td>\n",
       "      <td>0.881713</td>\n",
       "      <td>Jumanji</td>\n",
       "      <td>1995</td>\n",
       "      <td>No</td>\n",
       "      <td>No</td>\n",
       "      <td>No</td>\n",
       "      <td>...</td>\n",
       "      <td>No</td>\n",
       "      <td>Yes</td>\n",
       "      <td>No</td>\n",
       "      <td>No</td>\n",
       "      <td>No</td>\n",
       "      <td>No</td>\n",
       "      <td>No</td>\n",
       "      <td>No</td>\n",
       "      <td>No</td>\n",
       "      <td>No</td>\n",
       "    </tr>\n",
       "    <tr>\n",
       "      <th>2</th>\n",
       "      <td>3</td>\n",
       "      <td>52</td>\n",
       "      <td>3.259615</td>\n",
       "      <td>3.0</td>\n",
       "      <td>1.054823</td>\n",
       "      <td>Grumpier Old Men</td>\n",
       "      <td>1995</td>\n",
       "      <td>No</td>\n",
       "      <td>No</td>\n",
       "      <td>No</td>\n",
       "      <td>...</td>\n",
       "      <td>No</td>\n",
       "      <td>No</td>\n",
       "      <td>No</td>\n",
       "      <td>No</td>\n",
       "      <td>No</td>\n",
       "      <td>No</td>\n",
       "      <td>No</td>\n",
       "      <td>No</td>\n",
       "      <td>Yes</td>\n",
       "      <td>No</td>\n",
       "    </tr>\n",
       "    <tr>\n",
       "      <th>3</th>\n",
       "      <td>4</td>\n",
       "      <td>7</td>\n",
       "      <td>2.357143</td>\n",
       "      <td>3.0</td>\n",
       "      <td>0.852168</td>\n",
       "      <td>Waiting to Exhale</td>\n",
       "      <td>1995</td>\n",
       "      <td>No</td>\n",
       "      <td>No</td>\n",
       "      <td>No</td>\n",
       "      <td>...</td>\n",
       "      <td>No</td>\n",
       "      <td>No</td>\n",
       "      <td>No</td>\n",
       "      <td>No</td>\n",
       "      <td>No</td>\n",
       "      <td>No</td>\n",
       "      <td>No</td>\n",
       "      <td>Yes</td>\n",
       "      <td>Yes</td>\n",
       "      <td>No</td>\n",
       "    </tr>\n",
       "    <tr>\n",
       "      <th>4</th>\n",
       "      <td>5</td>\n",
       "      <td>49</td>\n",
       "      <td>3.071429</td>\n",
       "      <td>3.0</td>\n",
       "      <td>0.907148</td>\n",
       "      <td>Father of the Bride Part II</td>\n",
       "      <td>1995</td>\n",
       "      <td>No</td>\n",
       "      <td>No</td>\n",
       "      <td>No</td>\n",
       "      <td>...</td>\n",
       "      <td>No</td>\n",
       "      <td>No</td>\n",
       "      <td>No</td>\n",
       "      <td>No</td>\n",
       "      <td>No</td>\n",
       "      <td>No</td>\n",
       "      <td>No</td>\n",
       "      <td>No</td>\n",
       "      <td>No</td>\n",
       "      <td>No</td>\n",
       "    </tr>\n",
       "    <tr>\n",
       "      <th>...</th>\n",
       "      <td>...</td>\n",
       "      <td>...</td>\n",
       "      <td>...</td>\n",
       "      <td>...</td>\n",
       "      <td>...</td>\n",
       "      <td>...</td>\n",
       "      <td>...</td>\n",
       "      <td>...</td>\n",
       "      <td>...</td>\n",
       "      <td>...</td>\n",
       "      <td>...</td>\n",
       "      <td>...</td>\n",
       "      <td>...</td>\n",
       "      <td>...</td>\n",
       "      <td>...</td>\n",
       "      <td>...</td>\n",
       "      <td>...</td>\n",
       "      <td>...</td>\n",
       "      <td>...</td>\n",
       "      <td>...</td>\n",
       "      <td>...</td>\n",
       "    </tr>\n",
       "    <tr>\n",
       "      <th>9719</th>\n",
       "      <td>193581</td>\n",
       "      <td>1</td>\n",
       "      <td>4.000000</td>\n",
       "      <td>4.0</td>\n",
       "      <td>0.000000</td>\n",
       "      <td>Black Butler: Book of the Atlantic</td>\n",
       "      <td>2017</td>\n",
       "      <td>No</td>\n",
       "      <td>No</td>\n",
       "      <td>Yes</td>\n",
       "      <td>...</td>\n",
       "      <td>No</td>\n",
       "      <td>No</td>\n",
       "      <td>No</td>\n",
       "      <td>No</td>\n",
       "      <td>No</td>\n",
       "      <td>No</td>\n",
       "      <td>No</td>\n",
       "      <td>No</td>\n",
       "      <td>No</td>\n",
       "      <td>No</td>\n",
       "    </tr>\n",
       "    <tr>\n",
       "      <th>9720</th>\n",
       "      <td>193583</td>\n",
       "      <td>1</td>\n",
       "      <td>3.500000</td>\n",
       "      <td>3.5</td>\n",
       "      <td>0.000000</td>\n",
       "      <td>No Game No Life: Zero</td>\n",
       "      <td>2017</td>\n",
       "      <td>No</td>\n",
       "      <td>No</td>\n",
       "      <td>No</td>\n",
       "      <td>...</td>\n",
       "      <td>No</td>\n",
       "      <td>No</td>\n",
       "      <td>No</td>\n",
       "      <td>No</td>\n",
       "      <td>No</td>\n",
       "      <td>No</td>\n",
       "      <td>No</td>\n",
       "      <td>No</td>\n",
       "      <td>No</td>\n",
       "      <td>No</td>\n",
       "    </tr>\n",
       "    <tr>\n",
       "      <th>9721</th>\n",
       "      <td>193585</td>\n",
       "      <td>1</td>\n",
       "      <td>3.500000</td>\n",
       "      <td>3.5</td>\n",
       "      <td>0.000000</td>\n",
       "      <td>Flint</td>\n",
       "      <td>2017</td>\n",
       "      <td>No</td>\n",
       "      <td>No</td>\n",
       "      <td>No</td>\n",
       "      <td>...</td>\n",
       "      <td>No</td>\n",
       "      <td>No</td>\n",
       "      <td>No</td>\n",
       "      <td>No</td>\n",
       "      <td>No</td>\n",
       "      <td>No</td>\n",
       "      <td>No</td>\n",
       "      <td>Yes</td>\n",
       "      <td>No</td>\n",
       "      <td>No</td>\n",
       "    </tr>\n",
       "    <tr>\n",
       "      <th>9722</th>\n",
       "      <td>193587</td>\n",
       "      <td>1</td>\n",
       "      <td>3.500000</td>\n",
       "      <td>3.5</td>\n",
       "      <td>0.000000</td>\n",
       "      <td>Bungo Stray Dogs: Dead Apple</td>\n",
       "      <td>2018</td>\n",
       "      <td>No</td>\n",
       "      <td>No</td>\n",
       "      <td>Yes</td>\n",
       "      <td>...</td>\n",
       "      <td>No</td>\n",
       "      <td>No</td>\n",
       "      <td>No</td>\n",
       "      <td>No</td>\n",
       "      <td>No</td>\n",
       "      <td>No</td>\n",
       "      <td>No</td>\n",
       "      <td>No</td>\n",
       "      <td>No</td>\n",
       "      <td>No</td>\n",
       "    </tr>\n",
       "    <tr>\n",
       "      <th>9723</th>\n",
       "      <td>193609</td>\n",
       "      <td>1</td>\n",
       "      <td>4.000000</td>\n",
       "      <td>4.0</td>\n",
       "      <td>0.000000</td>\n",
       "      <td>Andrew Dice Clay: Dice Rules</td>\n",
       "      <td>1991</td>\n",
       "      <td>No</td>\n",
       "      <td>No</td>\n",
       "      <td>No</td>\n",
       "      <td>...</td>\n",
       "      <td>No</td>\n",
       "      <td>No</td>\n",
       "      <td>No</td>\n",
       "      <td>No</td>\n",
       "      <td>No</td>\n",
       "      <td>No</td>\n",
       "      <td>No</td>\n",
       "      <td>No</td>\n",
       "      <td>No</td>\n",
       "      <td>No</td>\n",
       "    </tr>\n",
       "  </tbody>\n",
       "</table>\n",
       "<p>9723 rows × 27 columns</p>\n",
       "</div>"
      ],
      "text/plain": [
       "      MovieId  TotalRatings  RatingMean  RatingMedian  RatingStd  \\\n",
       "0           1           215    3.920930           4.0   0.834859   \n",
       "1           2           110    3.431818           3.5   0.881713   \n",
       "2           3            52    3.259615           3.0   1.054823   \n",
       "3           4             7    2.357143           3.0   0.852168   \n",
       "4           5            49    3.071429           3.0   0.907148   \n",
       "...       ...           ...         ...           ...        ...   \n",
       "9719   193581             1    4.000000           4.0   0.000000   \n",
       "9720   193583             1    3.500000           3.5   0.000000   \n",
       "9721   193585             1    3.500000           3.5   0.000000   \n",
       "9722   193587             1    3.500000           3.5   0.000000   \n",
       "9723   193609             1    4.000000           4.0   0.000000   \n",
       "\n",
       "                                    Title  Year Crime Western Action  ...  \\\n",
       "0                              Toy Story   1995    No      No     No  ...   \n",
       "1                                Jumanji   1995    No      No     No  ...   \n",
       "2                       Grumpier Old Men   1995    No      No     No  ...   \n",
       "3                      Waiting to Exhale   1995    No      No     No  ...   \n",
       "4            Father of the Bride Part II   1995    No      No     No  ...   \n",
       "...                                   ...   ...   ...     ...    ...  ...   \n",
       "9719  Black Butler: Book of the Atlantic   2017    No      No    Yes  ...   \n",
       "9720               No Game No Life: Zero   2017    No      No     No  ...   \n",
       "9721                               Flint   2017    No      No     No  ...   \n",
       "9722        Bungo Stray Dogs: Dead Apple   2018    No      No    Yes  ...   \n",
       "9723        Andrew Dice Clay: Dice Rules   1991    No      No     No  ...   \n",
       "\n",
       "     Thriller Adventure IMAX Film-Noir Documentary Horror War Drama Romance  \\\n",
       "0          No       Yes   No        No          No     No  No    No      No   \n",
       "1          No       Yes   No        No          No     No  No    No      No   \n",
       "2          No        No   No        No          No     No  No    No     Yes   \n",
       "3          No        No   No        No          No     No  No   Yes     Yes   \n",
       "4          No        No   No        No          No     No  No    No      No   \n",
       "...       ...       ...  ...       ...         ...    ...  ..   ...     ...   \n",
       "9719       No        No   No        No          No     No  No    No      No   \n",
       "9720       No        No   No        No          No     No  No    No      No   \n",
       "9721       No        No   No        No          No     No  No   Yes      No   \n",
       "9722       No        No   No        No          No     No  No    No      No   \n",
       "9723       No        No   No        No          No     No  No    No      No   \n",
       "\n",
       "     Sci-Fi  \n",
       "0        No  \n",
       "1        No  \n",
       "2        No  \n",
       "3        No  \n",
       "4        No  \n",
       "...     ...  \n",
       "9719     No  \n",
       "9720     No  \n",
       "9721     No  \n",
       "9722     No  \n",
       "9723     No  \n",
       "\n",
       "[9723 rows x 27 columns]"
      ]
     },
     "execution_count": 22,
     "metadata": {},
     "output_type": "execute_result"
    }
   ],
   "source": [
    "#View of the grouped list\n",
    "updated"
   ]
  },
  {
   "cell_type": "code",
   "execution_count": 23,
   "id": "5eaf55b3",
   "metadata": {},
   "outputs": [
    {
     "data": {
      "text/html": [
       "<div>\n",
       "<style scoped>\n",
       "    .dataframe tbody tr th:only-of-type {\n",
       "        vertical-align: middle;\n",
       "    }\n",
       "\n",
       "    .dataframe tbody tr th {\n",
       "        vertical-align: top;\n",
       "    }\n",
       "\n",
       "    .dataframe thead th {\n",
       "        text-align: right;\n",
       "    }\n",
       "</style>\n",
       "<table border=\"1\" class=\"dataframe\">\n",
       "  <thead>\n",
       "    <tr style=\"text-align: right;\">\n",
       "      <th></th>\n",
       "      <th>MovieId</th>\n",
       "      <th>TotalRatings</th>\n",
       "      <th>RatingMean</th>\n",
       "      <th>RatingMedian</th>\n",
       "      <th>RatingStd</th>\n",
       "      <th>Title</th>\n",
       "      <th>Year</th>\n",
       "      <th>Crime</th>\n",
       "      <th>Western</th>\n",
       "      <th>Action</th>\n",
       "      <th>...</th>\n",
       "      <th>Thriller</th>\n",
       "      <th>Adventure</th>\n",
       "      <th>IMAX</th>\n",
       "      <th>Film-Noir</th>\n",
       "      <th>Documentary</th>\n",
       "      <th>Horror</th>\n",
       "      <th>War</th>\n",
       "      <th>Drama</th>\n",
       "      <th>Romance</th>\n",
       "      <th>Sci-Fi</th>\n",
       "    </tr>\n",
       "  </thead>\n",
       "  <tbody>\n",
       "    <tr>\n",
       "      <th>0</th>\n",
       "      <td>1</td>\n",
       "      <td>215</td>\n",
       "      <td>3.920930</td>\n",
       "      <td>4.0</td>\n",
       "      <td>0.834859</td>\n",
       "      <td>Toy Story</td>\n",
       "      <td>1995</td>\n",
       "      <td>No</td>\n",
       "      <td>No</td>\n",
       "      <td>No</td>\n",
       "      <td>...</td>\n",
       "      <td>No</td>\n",
       "      <td>Yes</td>\n",
       "      <td>No</td>\n",
       "      <td>No</td>\n",
       "      <td>No</td>\n",
       "      <td>No</td>\n",
       "      <td>No</td>\n",
       "      <td>No</td>\n",
       "      <td>No</td>\n",
       "      <td>No</td>\n",
       "    </tr>\n",
       "    <tr>\n",
       "      <th>1</th>\n",
       "      <td>2</td>\n",
       "      <td>110</td>\n",
       "      <td>3.431818</td>\n",
       "      <td>3.5</td>\n",
       "      <td>0.881713</td>\n",
       "      <td>Jumanji</td>\n",
       "      <td>1995</td>\n",
       "      <td>No</td>\n",
       "      <td>No</td>\n",
       "      <td>No</td>\n",
       "      <td>...</td>\n",
       "      <td>No</td>\n",
       "      <td>Yes</td>\n",
       "      <td>No</td>\n",
       "      <td>No</td>\n",
       "      <td>No</td>\n",
       "      <td>No</td>\n",
       "      <td>No</td>\n",
       "      <td>No</td>\n",
       "      <td>No</td>\n",
       "      <td>No</td>\n",
       "    </tr>\n",
       "    <tr>\n",
       "      <th>2</th>\n",
       "      <td>3</td>\n",
       "      <td>52</td>\n",
       "      <td>3.259615</td>\n",
       "      <td>3.0</td>\n",
       "      <td>1.054823</td>\n",
       "      <td>Grumpier Old Men</td>\n",
       "      <td>1995</td>\n",
       "      <td>No</td>\n",
       "      <td>No</td>\n",
       "      <td>No</td>\n",
       "      <td>...</td>\n",
       "      <td>No</td>\n",
       "      <td>No</td>\n",
       "      <td>No</td>\n",
       "      <td>No</td>\n",
       "      <td>No</td>\n",
       "      <td>No</td>\n",
       "      <td>No</td>\n",
       "      <td>No</td>\n",
       "      <td>Yes</td>\n",
       "      <td>No</td>\n",
       "    </tr>\n",
       "    <tr>\n",
       "      <th>3</th>\n",
       "      <td>4</td>\n",
       "      <td>7</td>\n",
       "      <td>2.357143</td>\n",
       "      <td>3.0</td>\n",
       "      <td>0.852168</td>\n",
       "      <td>Waiting to Exhale</td>\n",
       "      <td>1995</td>\n",
       "      <td>No</td>\n",
       "      <td>No</td>\n",
       "      <td>No</td>\n",
       "      <td>...</td>\n",
       "      <td>No</td>\n",
       "      <td>No</td>\n",
       "      <td>No</td>\n",
       "      <td>No</td>\n",
       "      <td>No</td>\n",
       "      <td>No</td>\n",
       "      <td>No</td>\n",
       "      <td>Yes</td>\n",
       "      <td>Yes</td>\n",
       "      <td>No</td>\n",
       "    </tr>\n",
       "    <tr>\n",
       "      <th>4</th>\n",
       "      <td>5</td>\n",
       "      <td>49</td>\n",
       "      <td>3.071429</td>\n",
       "      <td>3.0</td>\n",
       "      <td>0.907148</td>\n",
       "      <td>Father of the Bride Part II</td>\n",
       "      <td>1995</td>\n",
       "      <td>No</td>\n",
       "      <td>No</td>\n",
       "      <td>No</td>\n",
       "      <td>...</td>\n",
       "      <td>No</td>\n",
       "      <td>No</td>\n",
       "      <td>No</td>\n",
       "      <td>No</td>\n",
       "      <td>No</td>\n",
       "      <td>No</td>\n",
       "      <td>No</td>\n",
       "      <td>No</td>\n",
       "      <td>No</td>\n",
       "      <td>No</td>\n",
       "    </tr>\n",
       "  </tbody>\n",
       "</table>\n",
       "<p>5 rows × 27 columns</p>\n",
       "</div>"
      ],
      "text/plain": [
       "   MovieId  TotalRatings  RatingMean  RatingMedian  RatingStd  \\\n",
       "0        1           215    3.920930           4.0   0.834859   \n",
       "1        2           110    3.431818           3.5   0.881713   \n",
       "2        3            52    3.259615           3.0   1.054823   \n",
       "3        4             7    2.357143           3.0   0.852168   \n",
       "4        5            49    3.071429           3.0   0.907148   \n",
       "\n",
       "                          Title  Year Crime Western Action  ... Thriller  \\\n",
       "0                    Toy Story   1995    No      No     No  ...       No   \n",
       "1                      Jumanji   1995    No      No     No  ...       No   \n",
       "2             Grumpier Old Men   1995    No      No     No  ...       No   \n",
       "3            Waiting to Exhale   1995    No      No     No  ...       No   \n",
       "4  Father of the Bride Part II   1995    No      No     No  ...       No   \n",
       "\n",
       "  Adventure IMAX Film-Noir Documentary Horror War Drama Romance Sci-Fi  \n",
       "0       Yes   No        No          No     No  No    No      No     No  \n",
       "1       Yes   No        No          No     No  No    No      No     No  \n",
       "2        No   No        No          No     No  No    No     Yes     No  \n",
       "3        No   No        No          No     No  No   Yes     Yes     No  \n",
       "4        No   No        No          No     No  No    No      No     No  \n",
       "\n",
       "[5 rows x 27 columns]"
      ]
     },
     "execution_count": 23,
     "metadata": {},
     "output_type": "execute_result"
    }
   ],
   "source": [
    "# Data set with all values which we are interested in\n",
    "updated.head()"
   ]
  },
  {
   "cell_type": "code",
   "execution_count": 24,
   "id": "85780665",
   "metadata": {},
   "outputs": [
    {
     "data": {
      "text/plain": [
       "array(['1995', '1994', '1996', '1976', '1992', '1967', '1993', '1964',\n",
       "       '1977', '1965', '1982', '1990', '1991', '1989', '1937', '1940',\n",
       "       '1969', '1981', '1973', '1970', '1955', '1959', '1968', '1988',\n",
       "       '1997', '1972', '1943', '1952', '1951', '1957', '1961', '1958',\n",
       "       '1954', '1934', '1944', '1960', '1963', '1942', '1941', '1953',\n",
       "       '1939', '1950', '1946', '1945', '1938', '1947', '1935', '1936',\n",
       "       '1956', '1949', '1932', '1975', '1974', '1971', '1979', '1987',\n",
       "       '1986', '1980', '1978', '1985', '1966', '1962', '1983', '1984',\n",
       "       '1948', '1933', '1931', '1922', '1998', '1929', '1930', '1927',\n",
       "       '1928', '1999', '2000', '1926', '1919', '1921', '1925', '1923',\n",
       "       '2001', '2002', '2003', '1920', '1915', '1924', '2004', '1916',\n",
       "       '1917', '2005', '2006', '1902', '5', '1903', '2007', '2008',\n",
       "       '2009', '2010', '2011', '2012', '2013', '2014', '2015', '2016',\n",
       "       '2017', '2018', '1908', 2018, 2015, 2016, 2019, 2017, '2', 2011],\n",
       "      dtype=object)"
      ]
     },
     "execution_count": 24,
     "metadata": {},
     "output_type": "execute_result"
    }
   ],
   "source": [
    "updated[\"Year\"].unique()"
   ]
  },
  {
   "cell_type": "code",
   "execution_count": 25,
   "id": "642be9bb",
   "metadata": {},
   "outputs": [
    {
     "data": {
      "text/html": [
       "<div>\n",
       "<style scoped>\n",
       "    .dataframe tbody tr th:only-of-type {\n",
       "        vertical-align: middle;\n",
       "    }\n",
       "\n",
       "    .dataframe tbody tr th {\n",
       "        vertical-align: top;\n",
       "    }\n",
       "\n",
       "    .dataframe thead th {\n",
       "        text-align: right;\n",
       "    }\n",
       "</style>\n",
       "<table border=\"1\" class=\"dataframe\">\n",
       "  <thead>\n",
       "    <tr style=\"text-align: right;\">\n",
       "      <th></th>\n",
       "      <th>MovieId</th>\n",
       "      <th>TotalRatings</th>\n",
       "      <th>RatingMean</th>\n",
       "      <th>RatingMedian</th>\n",
       "      <th>RatingStd</th>\n",
       "      <th>Title</th>\n",
       "      <th>Year</th>\n",
       "      <th>Crime</th>\n",
       "      <th>Western</th>\n",
       "      <th>Action</th>\n",
       "      <th>...</th>\n",
       "      <th>Thriller</th>\n",
       "      <th>Adventure</th>\n",
       "      <th>IMAX</th>\n",
       "      <th>Film-Noir</th>\n",
       "      <th>Documentary</th>\n",
       "      <th>Horror</th>\n",
       "      <th>War</th>\n",
       "      <th>Drama</th>\n",
       "      <th>Romance</th>\n",
       "      <th>Sci-Fi</th>\n",
       "    </tr>\n",
       "  </thead>\n",
       "  <tbody>\n",
       "    <tr>\n",
       "      <th>6042</th>\n",
       "      <td>40697</td>\n",
       "      <td>2</td>\n",
       "      <td>2.25</td>\n",
       "      <td>2.25</td>\n",
       "      <td>2.474874</td>\n",
       "      <td>Babylon</td>\n",
       "      <td>5</td>\n",
       "      <td>No</td>\n",
       "      <td>No</td>\n",
       "      <td>No</td>\n",
       "      <td>...</td>\n",
       "      <td>No</td>\n",
       "      <td>No</td>\n",
       "      <td>No</td>\n",
       "      <td>No</td>\n",
       "      <td>No</td>\n",
       "      <td>No</td>\n",
       "      <td>No</td>\n",
       "      <td>No</td>\n",
       "      <td>No</td>\n",
       "      <td>Yes</td>\n",
       "    </tr>\n",
       "    <tr>\n",
       "      <th>9507</th>\n",
       "      <td>171891</td>\n",
       "      <td>1</td>\n",
       "      <td>3.50</td>\n",
       "      <td>3.50</td>\n",
       "      <td>0.000000</td>\n",
       "      <td>Generation Iron</td>\n",
       "      <td>2</td>\n",
       "      <td>No</td>\n",
       "      <td>No</td>\n",
       "      <td>No</td>\n",
       "      <td>...</td>\n",
       "      <td>No</td>\n",
       "      <td>No</td>\n",
       "      <td>No</td>\n",
       "      <td>No</td>\n",
       "      <td>No</td>\n",
       "      <td>No</td>\n",
       "      <td>No</td>\n",
       "      <td>No</td>\n",
       "      <td>No</td>\n",
       "      <td>No</td>\n",
       "    </tr>\n",
       "  </tbody>\n",
       "</table>\n",
       "<p>2 rows × 27 columns</p>\n",
       "</div>"
      ],
      "text/plain": [
       "      MovieId  TotalRatings  RatingMean  RatingMedian  RatingStd  \\\n",
       "6042    40697             2        2.25          2.25   2.474874   \n",
       "9507   171891             1        3.50          3.50   0.000000   \n",
       "\n",
       "                 Title Year Crime Western Action  ... Thriller Adventure IMAX  \\\n",
       "6042          Babylon     5    No      No     No  ...       No        No   No   \n",
       "9507  Generation Iron     2    No      No     No  ...       No        No   No   \n",
       "\n",
       "     Film-Noir Documentary Horror War Drama Romance Sci-Fi  \n",
       "6042        No          No     No  No    No      No    Yes  \n",
       "9507        No          No     No  No    No      No     No  \n",
       "\n",
       "[2 rows x 27 columns]"
      ]
     },
     "execution_count": 25,
     "metadata": {},
     "output_type": "execute_result"
    }
   ],
   "source": [
    "#updated[updated[\"Year\"].apply(lambda x: len(str(x))<4]\n",
    "updated[updated[\"Year\"].apply(lambda x: len(str(x)) < 4)]"
   ]
  },
  {
   "cell_type": "code",
   "execution_count": 26,
   "id": "8b601860",
   "metadata": {},
   "outputs": [],
   "source": [
    "#Let's update the columns\"no Genres listed\" to Unkown\n",
    "updated.rename(columns={\"(no genres listed)\":\"Unknown\"}, inplace=True)\n",
    "#droping MoviesID as that is not useful for our model nor EDA\n",
    "ModelData=updated.drop(\"MovieId\",axis=1)"
   ]
  },
  {
   "cell_type": "code",
   "execution_count": 27,
   "id": "855e4f48",
   "metadata": {},
   "outputs": [
    {
     "data": {
      "text/plain": [
       "Index(['MovieId', 'TotalRatings', 'RatingMean', 'RatingMedian', 'RatingStd',\n",
       "       'Title', 'Year', 'Crime', 'Western', 'Action', 'Children', 'Comedy',\n",
       "       'Mystery', 'Musical', 'Fantasy', 'Animation', 'Unknown', 'Thriller',\n",
       "       'Adventure', 'IMAX', 'Film-Noir', 'Documentary', 'Horror', 'War',\n",
       "       'Drama', 'Romance', 'Sci-Fi'],\n",
       "      dtype='object')"
      ]
     },
     "execution_count": 27,
     "metadata": {},
     "output_type": "execute_result"
    }
   ],
   "source": [
    "updated.columns"
   ]
  },
  {
   "cell_type": "markdown",
   "id": "c0ecea2b",
   "metadata": {},
   "source": [
    "+ The Mean and Median ratings are pretty close showing that the rating on these movies are pretty consitent\n",
    "+ We can see that there was movies with no ratings"
   ]
  },
  {
   "cell_type": "code",
   "execution_count": 28,
   "id": "c17b4eef",
   "metadata": {},
   "outputs": [
    {
     "data": {
      "text/html": [
       "<div>\n",
       "<style scoped>\n",
       "    .dataframe tbody tr th:only-of-type {\n",
       "        vertical-align: middle;\n",
       "    }\n",
       "\n",
       "    .dataframe tbody tr th {\n",
       "        vertical-align: top;\n",
       "    }\n",
       "\n",
       "    .dataframe thead th {\n",
       "        text-align: right;\n",
       "    }\n",
       "</style>\n",
       "<table border=\"1\" class=\"dataframe\">\n",
       "  <thead>\n",
       "    <tr style=\"text-align: right;\">\n",
       "      <th></th>\n",
       "      <th>MovieId</th>\n",
       "      <th>TotalRatings</th>\n",
       "      <th>RatingMean</th>\n",
       "      <th>RatingMedian</th>\n",
       "      <th>RatingStd</th>\n",
       "    </tr>\n",
       "  </thead>\n",
       "  <tbody>\n",
       "    <tr>\n",
       "      <th>count</th>\n",
       "      <td>9723.000000</td>\n",
       "      <td>9723.000000</td>\n",
       "      <td>9723.000000</td>\n",
       "      <td>9723.000000</td>\n",
       "      <td>9723.000000</td>\n",
       "    </tr>\n",
       "    <tr>\n",
       "      <th>mean</th>\n",
       "      <td>42234.224725</td>\n",
       "      <td>10.370770</td>\n",
       "      <td>3.262270</td>\n",
       "      <td>3.291937</td>\n",
       "      <td>0.541749</td>\n",
       "    </tr>\n",
       "    <tr>\n",
       "      <th>std</th>\n",
       "      <td>52182.954547</td>\n",
       "      <td>22.401955</td>\n",
       "      <td>0.869740</td>\n",
       "      <td>0.897562</td>\n",
       "      <td>0.509896</td>\n",
       "    </tr>\n",
       "    <tr>\n",
       "      <th>min</th>\n",
       "      <td>1.000000</td>\n",
       "      <td>1.000000</td>\n",
       "      <td>0.500000</td>\n",
       "      <td>0.500000</td>\n",
       "      <td>0.000000</td>\n",
       "    </tr>\n",
       "    <tr>\n",
       "      <th>25%</th>\n",
       "      <td>3245.000000</td>\n",
       "      <td>1.000000</td>\n",
       "      <td>2.800000</td>\n",
       "      <td>3.000000</td>\n",
       "      <td>0.000000</td>\n",
       "    </tr>\n",
       "    <tr>\n",
       "      <th>50%</th>\n",
       "      <td>7299.000000</td>\n",
       "      <td>3.000000</td>\n",
       "      <td>3.416667</td>\n",
       "      <td>3.500000</td>\n",
       "      <td>0.577350</td>\n",
       "    </tr>\n",
       "    <tr>\n",
       "      <th>75%</th>\n",
       "      <td>76519.500000</td>\n",
       "      <td>9.000000</td>\n",
       "      <td>3.911239</td>\n",
       "      <td>4.000000</td>\n",
       "      <td>0.928227</td>\n",
       "    </tr>\n",
       "    <tr>\n",
       "      <th>max</th>\n",
       "      <td>193609.000000</td>\n",
       "      <td>329.000000</td>\n",
       "      <td>5.000000</td>\n",
       "      <td>5.000000</td>\n",
       "      <td>3.181981</td>\n",
       "    </tr>\n",
       "  </tbody>\n",
       "</table>\n",
       "</div>"
      ],
      "text/plain": [
       "             MovieId  TotalRatings   RatingMean  RatingMedian    RatingStd\n",
       "count    9723.000000   9723.000000  9723.000000   9723.000000  9723.000000\n",
       "mean    42234.224725     10.370770     3.262270      3.291937     0.541749\n",
       "std     52182.954547     22.401955     0.869740      0.897562     0.509896\n",
       "min         1.000000      1.000000     0.500000      0.500000     0.000000\n",
       "25%      3245.000000      1.000000     2.800000      3.000000     0.000000\n",
       "50%      7299.000000      3.000000     3.416667      3.500000     0.577350\n",
       "75%     76519.500000      9.000000     3.911239      4.000000     0.928227\n",
       "max    193609.000000    329.000000     5.000000      5.000000     3.181981"
      ]
     },
     "execution_count": 28,
     "metadata": {},
     "output_type": "execute_result"
    }
   ],
   "source": [
    "updated.describe()"
   ]
  },
  {
   "cell_type": "markdown",
   "id": "27458498",
   "metadata": {},
   "source": [
    "# !!! There are 18 entries movies without ratings we may need to drop these entries therefore we will remove it\n",
    "***SINCE WE HAVE DONE INNER JOIN ALL MOVIES HAVE RATING NOW***\n",
    "    "
   ]
  },
  {
   "cell_type": "code",
   "execution_count": 29,
   "id": "aece0428",
   "metadata": {},
   "outputs": [
    {
     "data": {
      "text/plain": [
       "Series([], Name: Title, dtype: object)"
      ]
     },
     "execution_count": 29,
     "metadata": {},
     "output_type": "execute_result"
    }
   ],
   "source": [
    "updated[updated[\"TotalRatings\"]==0][\"Title\"]"
   ]
  },
  {
   "cell_type": "code",
   "execution_count": 30,
   "id": "05a73355",
   "metadata": {},
   "outputs": [
    {
     "name": "stdout",
     "output_type": "stream",
     "text": [
      "<class 'pandas.core.frame.DataFrame'>\n",
      "Int64Index: 9723 entries, 0 to 9723\n",
      "Data columns (total 27 columns):\n",
      " #   Column        Non-Null Count  Dtype  \n",
      "---  ------        --------------  -----  \n",
      " 0   MovieId       9723 non-null   int64  \n",
      " 1   TotalRatings  9723 non-null   int64  \n",
      " 2   RatingMean    9723 non-null   float64\n",
      " 3   RatingMedian  9723 non-null   float64\n",
      " 4   RatingStd     9723 non-null   float64\n",
      " 5   Title         9723 non-null   object \n",
      " 6   Year          9723 non-null   object \n",
      " 7   Crime         9723 non-null   object \n",
      " 8   Western       9723 non-null   object \n",
      " 9   Action        9723 non-null   object \n",
      " 10  Children      9723 non-null   object \n",
      " 11  Comedy        9723 non-null   object \n",
      " 12  Mystery       9723 non-null   object \n",
      " 13  Musical       9723 non-null   object \n",
      " 14  Fantasy       9723 non-null   object \n",
      " 15  Animation     9723 non-null   object \n",
      " 16  Unknown       9723 non-null   object \n",
      " 17  Thriller      9723 non-null   object \n",
      " 18  Adventure     9723 non-null   object \n",
      " 19  IMAX          9723 non-null   object \n",
      " 20  Film-Noir     9723 non-null   object \n",
      " 21  Documentary   9723 non-null   object \n",
      " 22  Horror        9723 non-null   object \n",
      " 23  War           9723 non-null   object \n",
      " 24  Drama         9723 non-null   object \n",
      " 25  Romance       9723 non-null   object \n",
      " 26  Sci-Fi        9723 non-null   object \n",
      "dtypes: float64(3), int64(2), object(22)\n",
      "memory usage: 2.1+ MB\n"
     ]
    }
   ],
   "source": [
    "updated.info()"
   ]
  },
  {
   "cell_type": "markdown",
   "id": "2b92bcbf",
   "metadata": {},
   "source": [
    "# Data Understanding Part 2\n",
    "* Visualize the any important attributes appropriately. Important: Provide an interpretation for any charts or graphs."
   ]
  },
  {
   "cell_type": "markdown",
   "id": "4d34289a",
   "metadata": {},
   "source": [
    "### Top 10 Rated Movies\n",
    "Taste for movies are solely subjective, however these top 10 movies all left something very special to watchers that they had to leave a review."
   ]
  },
  {
   "cell_type": "code",
   "execution_count": 85,
   "id": "fca723e5",
   "metadata": {},
   "outputs": [
    {
     "data": {
      "image/png": "[encoded data removed]",
      "text/plain": [
       "<Figure size 640x480 with 1 Axes>"
      ]
     },
     "metadata": {},
     "output_type": "display_data"
    }
   ],
   "source": [
    "top10movies = updated.nlargest(10, 'TotalRatings')\n",
    "\n",
    "ax = sns.barplot(x='TotalRatings', y='Title', \n",
    "                 data = top10movies)\n",
    "\n",
    "ax.set(xlabel='Total Ratings',\n",
    "       ylabel=None,\n",
    "       title='How popular are the top 10 rated movies? (2018)')\n",
    "\n",
    "plt.show()"
   ]
  },
  {
   "cell_type": "markdown",
   "id": "25aa2664",
   "metadata": {},
   "source": [
    "### Distribution of Mean Ratings\n",
    "The distribution seems left skewed but that does make sense because a majority of movies are created to be enjoyable and often be rated high, as seen with over 2000 ratings are mean rating 4."
   ]
  },
  {
   "cell_type": "code",
   "execution_count": 81,
   "id": "30e05dfe",
   "metadata": {},
   "outputs": [
    {
     "data": {
      "text/plain": [
       "Text(0, 0.5, 'Frequency')"
      ]
     },
     "execution_count": 81,
     "metadata": {},
     "output_type": "execute_result"
    },
    {
     "data": {
      "image/png": "[encoded data removed]",
      "text/plain": [
       "<Figure size 1000x500 with 1 Axes>"
      ]
     },
     "metadata": {},
     "output_type": "display_data"
    }
   ],
   "source": [
    "updated.hist('RatingMean', figsize=(10,5))\n",
    "plt.title(\"Mean Ratings Distribution Histogram\")\n",
    "plt.xlabel('Mean Rating')\n",
    "plt.ylabel('Frequency')"
   ]
  },
  {
   "cell_type": "markdown",
   "id": "139f27f2",
   "metadata": {},
   "source": [
    "### Top 10 Rated Genres\n",
    "!!! cant figure out this plot since genre is one-hot coded :/\n",
    "\n",
    "It is not surprising that Comedy genre is a hit with 144 mean 5 star ratings! Movies are an entertainment and comedy movies are a good stressbuster and this data shows that."
   ]
  },
  {
   "cell_type": "code",
   "execution_count": 119,
   "id": "d5ca85ec",
   "metadata": {},
   "outputs": [
    {
     "data": {
      "image/png": "[encoded data removed]",
      "text/plain": [
       "<Figure size 640x480 with 1 Axes>"
      ]
     },
     "metadata": {},
     "output_type": "display_data"
    }
   ],
   "source": [
    "# Create a dataframe for Genres with Mean 5 star Rating counts\n",
    "topgenres = pd.DataFrame(columns=['Genres','Count'])\n",
    "\n",
    "for i in genres_list:\n",
    "    if i == '(no genres listed)':\n",
    "        i = 'Unknown'\n",
    "    topgenres = topgenres.append({'Genres': i,\n",
    "                    'Count': updated[(updated[\"RatingMean\"]==5) & (updated[i]==\"Yes\")][i].count(),\n",
    "                   }\n",
    "                   ,ignore_index=True\n",
    "                  ).sort_values(by=['Count'], ascending = False)    \n",
    "#topgenres\n",
    "\n",
    "ax = sns.barplot(x='Count', y='Genres', data = topgenres.head(10))\n",
    "ax.set(xlabel='Total Mean Rating 5',\n",
    "       ylabel=None,\n",
    "       title='Top 10 rated genres (2018)')\n",
    "\n",
    "plt.show()"
   ]
  },
  {
   "cell_type": "markdown",
   "id": "75dca732",
   "metadata": {},
   "source": [
    "# Modeling and Evaluation\n",
    "* Different tasks will require different evaluation methods. Be as thorough as possible when analyzing\n",
    "the data you have chosen and use visualizations of the results to explain the performance and\n",
    "expected outcomes whenever possible. Guide the reader through your analysis with plenty of\n",
    "discussion of the results. \n",
    "\n",
    "- #### Cluster Analysis \n",
    "\n",
    "    - Perform cluster analysis using several clustering methods\n",
    "    - How did you determine a suitable number of clusters for each method?\n",
    "    - Use internal and/or external validation measures to describe and compare the clusterings and the clusters (some visual methods would be good).\n",
    "    - Describe your results. What findings are the most interesting and why? "
   ]
  },
  {
   "cell_type": "markdown",
   "id": "c50b6dfc",
   "metadata": {},
   "source": [
    "# Modeling and Evaluation\n",
    "* Be critical of your performance and tell the reader how you current model might be usable by other parties. Did you achieve your goals? If not, can you reign in the utility of your modeling?\n",
    "\n",
    "    - How useful is your model for interested parties (i.e., the companies or organizations that might want to use it)?\n",
    "    - How would your deploy your model for interested parties?\n",
    "    - What other data should be collected?\n",
    "    - How often would the model need to be updated, etc.? "
   ]
  },
  {
   "cell_type": "markdown",
   "id": "52ac7bc6",
   "metadata": {},
   "source": [
    "#  Exceptional Work\n",
    "* You have free reign to provide additional analyses or combine analyses"
   ]
  },
  {
   "cell_type": "code",
   "execution_count": null,
   "id": "152010e9",
   "metadata": {},
   "outputs": [],
   "source": []
  }
 ],
 "metadata": {
  "kernelspec": {
   "display_name": "Python 3 (ipykernel)",
   "language": "python",
   "name": "python3"
  },
  "language_info": {
   "codemirror_mode": {
    "name": "ipython",
    "version": 3
   },
   "file_extension": ".py",
   "mimetype": "text/x-python",
   "name": "python",
   "nbconvert_exporter": "python",
   "pygments_lexer": "ipython3",
   "version": "3.10.5"
  }
 },
 "nbformat": 4,
 "nbformat_minor": 5
}
